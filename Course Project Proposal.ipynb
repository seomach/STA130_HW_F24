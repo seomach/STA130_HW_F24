{
 "cells": [
  {
   "cell_type": "markdown",
   "id": "3dc71ce9",
   "metadata": {},
   "source": [
    "# Individual Project Proposal\n",
    "___"
   ]
  },
  {
   "cell_type": "markdown",
   "id": "1eb455fa",
   "metadata": {},
   "source": [
    "# Analysis 1:\n",
    "\n",
    "## How does one's main mode of communication (face-to-face vs. virtual) differentially affect feelings of emotional loneliness among young adults?\n",
    "\n",
    "### The Variables\n",
    "- **Emotional Loneliness** measured by the De Jong Gierveld Loneliness Scale \n",
    "- **Main Mode of Communication** wherein the respondents will be categorized in whether they engage more frequently in face-to-face interactions or virtual interactions. \n",
    "- Potential confounding variables are age, living conditions, and pre-pandemic loneliness.\n",
    "\n",
    "##### Why?\n",
    "- Understanding the relationship between communication mode and emotional loneliness, while accounting for confounders, helps identify how social interactions impact emotional well-being.\n",
    "\n",
    "#### Visualizations and Summary Statistics\n",
    "- **Bar Chart**: Comparing the average emotional loneliness scores of young adults who primarily communicate face-to-face versus those who primarily communicate virtually. This visualisation would provide a clear visual representation of any differences in emotional loneliness between the two communication mode groups.\n",
    "\n",
    "\n",
    "### Analysis \n",
    "\n",
    "**Analysis of Covariance (ANCOVA)** allows for comparing the mean emotional loneliness scores between the two communication mode groups (face-to-face vs. virtual).\n",
    "The ANCOVA would be performed as follows:\n",
    "1. Define the independent variable: Main mode of communication (categorical: face-to-face vs. virtual).\n",
    "2. Define the dependent variable: Emotional loneliness score (continuous, derived from the De Jong Gierveld Loneliness Scale items).\n",
    "3. Define the covariates: Age (continuous), living situation (categorical: alone vs. with others), and pre-pandemic loneliness score (continuous).\n",
    "4. Run the ANCOVA model: This will determine if there is a statistically significant difference in emotional loneliness scores between the two communication mode groups after adjusting for the effects of the covariates.\n",
    "\n",
    "Assumptions of ANCOVA:\n",
    "- Independence of observations: Participants' responses should be independent of each other.\n",
    "- Normality of the dependent variable: Emotional loneliness scores should be approximately normally distributed within each group.\n",
    "- Homogeneity of variances: The variances of emotional loneliness scores should be similar across all groups.\n",
    "- Linearity of the relationship between the dependent variable and covariates: The relationship between emotional loneliness scores and each covariate should be linear.\n",
    "\n",
    "### Hypothesis\n",
    "**Young adults who communicate face-to-face will report lower emotional loneliness than those who communicate virtually**. If supported, this would emphasize the importance of face-to-face interactions for young adults' emotional well-being.\n"
   ]
  },
  {
   "cell_type": "markdown",
   "id": "6b11bc19",
   "metadata": {},
   "source": [
    "___"
   ]
  },
  {
   "cell_type": "markdown",
   "id": "2fda0d04",
   "metadata": {},
   "source": [
    "# Analysis 2:\n",
    "\n",
    "## How does overall loneliness among the survey respondents affect their self-rated mental health?\n",
    "\n",
    "### The Variables\n",
    "- **Overall Loneliness** measured by combining scores from the De Jong Gierveld Emotional and Social Loneliness Scale items\n",
    "- **Self-Rated Mental Health** directly taken from the survey question: \"At the present time, would you say your MENTAL HEALTH is:\"\n",
    "- Potential Confounding Variables are age, social support, and frequency of social activities.\n",
    "\n",
    "##### Why?\n",
    "- Exploring these variables helps understand how loneliness influences mental health while minimizing other factors' effects.\n",
    "\n",
    "#### Visualizations and Summary Statistics\n",
    "- **Box Plots** : Comparing the distribution of self-rated mental health scores for different levels of loneliness (e.g., low, moderate, high) would provide a clearer understanding of how mental health perceptions vary across loneliness categories. Box plots are useful for displaying the spread and central tendency of data, making it easier to compare distributions across different groups.\n",
    "\n",
    "### Analysis \n",
    "\n",
    "**Multiple Linear Regression** allows for examining the relationship between overall loneliness (predictor variable) and self-rated mental health (outcome variable) while controlling for the effects of other relevant factors (covariates).\n",
    "\n",
    "Steps to perform the multiple linear regression:\n",
    "1. Define the outcome variable: Self-rated mental health (continuous).\n",
    "2. Define the predictor variable: Overall loneliness score (continuous).\n",
    "3. Define the covariates: Age (continuous), social support score (continuous), and frequency of social activities (continuous).\n",
    "4. Run the regression model: This will produce an equation that describes the relationship between the variables and determine the statistical significance of the predictor and covariates.\n",
    "\n",
    "Assumptions of Multiple Linear Regression:\n",
    "- Linearity: The relationship between the predictor and outcome variables should be linear.\n",
    "- Independence: The observations (survey responses) should be independent of each other.\n",
    "- Homoscedasticity: The variance of the residuals (the difference between predicted and actual values) should be constant across all levels of the predictor variable.\n",
    "- Normality: The residuals should be normally distributed.\n",
    "\n",
    "### Hypothesis\n",
    "**Higher loneliness levels will correlate with poorer mental health**. Supporting this would underscore the need for interventions addressing loneliness as part of public mental health efforts."
   ]
  },
  {
   "cell_type": "markdown",
   "id": "cd671f0a",
   "metadata": {},
   "source": [
    "____\n",
    "# Analysis 3:\n",
    "\n",
    "## What is the impact of the COVID-19 pandemic on the emotional loneliness on older adults (25+) compared to younger adults (18-25)?\n",
    "\n",
    "### The Variables\n",
    "- **Age Group** will be categorized based on the given age ranges: \"Younger Adults\" (18-25) and \"Older Adults\" (25+).\n",
    "- **Emotional Loneliness** measured using the De Jong Gierveld Emotional Loneliness Scale items.\n",
    "- **Change in Loneliness** will be measured using \"LONELY_change_pre_covid\" which asks participants to compare their current loneliness to their pre-pandemic loneliness.\n",
    "- **COVID-19 Prevention Practices** wherein measuring adherence to COVID-19 prevention practices will be explored as potential factors influencing loneliness levels.\n",
    "\n",
    "##### Why?\n",
    "- By exploring these variables, the analysis aims to understand if the COVID-19 pandemic had a differential impact on the emotional loneliness of younger and older adults, considering their pre-pandemic experiences and pandemic-related behavioural changes.\n",
    "\n",
    "#### Visualizations and Summary Statistics\n",
    "- **Bar Charts**: Comparing the average emotional loneliness scores of younger and older adults before and after the pandemic would visually represent any significant changes in loneliness levels.\n",
    "\n",
    "### Analysis \n",
    "\n",
    "**Two-Way ANOVA (Analysis of Variance)** allows for comparing the means of emotional loneliness scores between two independent variables: age group (younger vs. older) and time (pre-pandemic vs. during the pandemic).\n",
    "\n",
    "Steps to perform the Two-Way ANOVA:\n",
    "1. Define the dependent variable: Emotional loneliness score (continuous).\n",
    "2. Define the independent variables: Age group (categorical) and time (categorical).\n",
    "3. Run the ANOVA model: This will determine whether there are significant main effects of age group and time, as well as an interaction effect between the two.\n",
    "\n",
    "Assumptions of Two-Way ANOVA:\n",
    "- Independence of observations: Data points should be independent within and across groups.\n",
    "- Normality: The dependent variable should be approximately normally distributed within each group.\n",
    "- Homogeneity of variances: The variances of the dependent variable should be equal across all groups.\n",
    "\n",
    "### Hypothesis\n",
    "**Emotional loneliness increased during the pandemic for both age groups, with a greater impact on older adults**. If supported, this would suggest the need for targeted support for older adults to alleviate pandemic-induced loneliness."
   ]
  }
 ],
 "metadata": {
  "kernelspec": {
   "display_name": "Python 3 (ipykernel)",
   "language": "python",
   "name": "python3"
  },
  "language_info": {
   "codemirror_mode": {
    "name": "ipython",
    "version": 3
   },
   "file_extension": ".py",
   "mimetype": "text/x-python",
   "name": "python",
   "nbconvert_exporter": "python",
   "pygments_lexer": "ipython3",
   "version": "3.11.6"
  }
 },
 "nbformat": 4,
 "nbformat_minor": 5
}
